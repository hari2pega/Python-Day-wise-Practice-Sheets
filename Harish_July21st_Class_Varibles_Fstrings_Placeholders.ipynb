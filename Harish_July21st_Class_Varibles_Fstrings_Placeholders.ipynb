{
 "cells": [
  {
   "cell_type": "code",
   "execution_count": 1,
   "metadata": {},
   "outputs": [],
   "source": [
    "import sys"
   ]
  },
  {
   "cell_type": "code",
   "execution_count": 3,
   "metadata": {},
   "outputs": [
    {
     "name": "stdout",
     "output_type": "stream",
     "text": [
      "Hello World!\n"
     ]
    }
   ],
   "source": [
    "print(\"Hello World!\")"
   ]
  },
  {
   "cell_type": "code",
   "execution_count": 5,
   "metadata": {},
   "outputs": [
    {
     "data": {
      "text/plain": [
       "15"
      ]
     },
     "execution_count": 5,
     "metadata": {},
     "output_type": "execute_result"
    }
   ],
   "source": [
    "#introduction to Variables .....\n",
    "\n",
    "X=10\n",
    "Y=5\n",
    "X+Y "
   ]
  },
  {
   "cell_type": "code",
   "execution_count": 7,
   "metadata": {},
   "outputs": [
    {
     "name": "stdout",
     "output_type": "stream",
     "text": [
      "Hello Python World!\n"
     ]
    }
   ],
   "source": [
    "message = \"Hello Python World!\"\n",
    "\n",
    "print(message)"
   ]
  },
  {
   "cell_type": "code",
   "execution_count": null,
   "metadata": {},
   "outputs": [],
   "source": [
    "#Introduction Data Types in Python\n",
    "\n",
    "#1. strings...\n"
   ]
  },
  {
   "cell_type": "code",
   "execution_count": 8,
   "metadata": {},
   "outputs": [
    {
     "name": "stdout",
     "output_type": "stream",
     "text": [
      "tony stark\n"
     ]
    }
   ],
   "source": [
    "# Introduction to strings.....\n",
    "\n",
    "# -- A String is a series of charecters\n",
    "# A string is an immutable data type\n",
    "# How to define a String ?\n",
    "# Anything inside a string is considered as string ....\n",
    "\n",
    "name = \"tony stark\"\n",
    "\n",
    "print(name)\n",
    "\n",
    "\n",
    "\n"
   ]
  },
  {
   "cell_type": "code",
   "execution_count": 11,
   "metadata": {},
   "outputs": [
    {
     "name": "stdout",
     "output_type": "stream",
     "text": [
      "Kumar\n"
     ]
    }
   ],
   "source": [
    "first_name = \"Kumar\"\n",
    "last_name = \"Harish\"\n",
    "print(first_name)\n",
    "#1. Can we declare or assign a space while giving the variable name ? Ans: No .. we can give unsderscore to achieve this\n",
    "\n"
   ]
  },
  {
   "cell_type": "code",
   "execution_count": 16,
   "metadata": {},
   "outputs": [
    {
     "name": "stdout",
     "output_type": "stream",
     "text": [
      "TONY STARK\n"
     ]
    }
   ],
   "source": [
    "name =\"tony STARK\"\n",
    "#print(name.title())\n",
    "#print(name.lower())\n",
    "print(name.upper())\n",
    "\n",
    "#1. How do u change the Input to titlecase, uppercase or lowercase?\n",
    "\n"
   ]
  },
  {
   "cell_type": "code",
   "execution_count": 18,
   "metadata": {},
   "outputs": [
    {
     "name": "stdout",
     "output_type": "stream",
     "text": [
      "Tony Stark\n"
     ]
    }
   ],
   "source": [
    "#Using variables in the strings\n",
    "\n",
    "first_name = \"Tony\"\n",
    "last_name = \"stark\"\n",
    "#F- Strings .... where in we can able to assign references to other variables as well -- It supports to 3.6 or Above version\n",
    "# F string means -- Formatted Strings\n",
    "full_name= f\"{first_name} {last_name}\"\n",
    "#print(full_name)\n",
    "\n",
    "print(full_name.title())\n",
    "\n",
    "\n"
   ]
  },
  {
   "cell_type": "code",
   "execution_count": 19,
   "metadata": {},
   "outputs": [
    {
     "name": "stdout",
     "output_type": "stream",
     "text": [
      "python\n"
     ]
    }
   ],
   "source": [
    "#Adding whitespaces to strings with tabs and new lines .......\n",
    "\n",
    "#Any non printing charecter is whitespace ..... !!! \n",
    "# \\t -- Adding additional 5/4 spaces (Tab space) before the charecters ....\n",
    "\n",
    "\n",
    "print(\"python\")"
   ]
  },
  {
   "cell_type": "code",
   "execution_count": 20,
   "metadata": {},
   "outputs": [
    {
     "name": "stdout",
     "output_type": "stream",
     "text": [
      "python \n"
     ]
    }
   ],
   "source": [
    "print(\"python \")"
   ]
  },
  {
   "cell_type": "code",
   "execution_count": 21,
   "metadata": {},
   "outputs": [
    {
     "name": "stdout",
     "output_type": "stream",
     "text": [
      "\tpython\n"
     ]
    }
   ],
   "source": [
    "print('\\tpython')\n",
    "\n",
    "# Methods of declaring a string... \n",
    "# double quote, single quote and triple quote Strings can be \n"
   ]
  },
  {
   "cell_type": "code",
   "execution_count": null,
   "metadata": {},
   "outputs": [],
   "source": [
    "declare =\"something\"\n",
    "declare1 ='something1'\n",
    "declare2 = \" 'something2'\"\n",
    "declare3 =\"\"\"something4\"\"\"\n",
    "example = \"john's dad name is unique\"\n",
    "# -- IQ # How do u include a afostophe between the strings ...!!!\n",
    "# -- \n",
    "print(\"\")"
   ]
  },
  {
   "cell_type": "code",
   "execution_count": 24,
   "metadata": {
    "scrolled": true
   },
   "outputs": [
    {
     "name": "stdout",
     "output_type": "stream",
     "text": [
      "Languages:\n",
      "python\n",
      "C\n",
      "Java\n",
      ".Net\n",
      "C++\n",
      "swift\n"
     ]
    }
   ],
   "source": [
    "# -- How to print the output in the new line ..!!\n",
    "print(\"Languages:\\npython\\nC\\nJava\\n.Net\\nC++\\nswift\")"
   ]
  },
  {
   "cell_type": "code",
   "execution_count": 30,
   "metadata": {},
   "outputs": [
    {
     "name": "stdout",
     "output_type": "stream",
     "text": [
      "Python\n"
     ]
    }
   ],
   "source": [
    "#Stripping/Eliminating the whitespaces..!!\n",
    "fav_language =\" Python \"\n",
    "#print(fav_language)\n",
    "#print(fav_language.rstrip())\n",
    "#print(fav_language.lstrip())\n",
    "print(fav_language.strip())"
   ]
  },
  {
   "cell_type": "code",
   "execution_count": null,
   "metadata": {},
   "outputs": [],
   "source": []
  },
  {
   "cell_type": "code",
   "execution_count": null,
   "metadata": {},
   "outputs": [],
   "source": []
  }
 ],
 "metadata": {
  "kernelspec": {
   "display_name": "Python 3",
   "language": "python",
   "name": "python3"
  },
  "language_info": {
   "codemirror_mode": {
    "name": "ipython",
    "version": 3
   },
   "file_extension": ".py",
   "mimetype": "text/x-python",
   "name": "python",
   "nbconvert_exporter": "python",
   "pygments_lexer": "ipython3",
   "version": "3.7.3"
  }
 },
 "nbformat": 4,
 "nbformat_minor": 2
}
